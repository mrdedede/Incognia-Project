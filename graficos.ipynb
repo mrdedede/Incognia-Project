{
  "cells": [
    {
      "cell_type": "markdown",
      "metadata": {
        "id": "JyJtCpPhSIfr"
      },
      "source": [
        "# Projeto de Engenharia de Dados\n",
        "\n",
        "## Gráficos Relevantes:\n",
        "1. Valor médio, valor máximo e desvio padrão da idade (bar chart)\n",
        "2. Porcentagem de celulares rooteados (bar chart)\n",
        "3. Logins por dia da semana (pie chart)\n",
        "4. Porcentagem de dispositivos que habilitaram localização falsa (bar chart)\n",
        "5. Emulador VS Sem Emulador (pie chart)\n",
        "6. Contas por aparelho em moda, média, mediana e desvio padrão (bar chart)\n",
        "7. Valor médio, mediana e moda de reinicializações (bar chart)\n",
        "8. Valor médio, mediana e moda de reinicializações diário (bar chart)\n",
        "9. Média, Mediana e Desvio Padrão de apps máximos instalados por dispositivo\n",
        "10. Porcentagem de aplicativos instalados fora de loja oficial (pie chart)\n",
        "\n",
        "## Insights para o Projeto:\n",
        "1. Que relação a instalação em loja não official e a localização suspeita tem com eventos de Account Takeover?\n",
        "2. Emuladores e Account Takeovers - Há relações?\n",
        "3. Root VS Sem root - Quais estão mais relacionados a account takeover?\n",
        "4. Quantidade de Wallpaper tem relação com account takeover?\n",
        "5. Quantos aparelhos tem instalações feitas fora de loja oficial? Qual a média?\n",
        "6. Download Externo (external_download) VS Evento de account takeover - Um heatmap\n",
        "7. Suspicious Location VS Evento de account takeover - Um heatmap\n",
        "8. Há relação entre a quantidade média de boots por dia e eventos de account takeover?\n",
        "9. Existe algum dia da semana onde ocorrem mais account takeovers?\n",
        "10. Heatmap de correlações"
      ]
    },
    {
      "cell_type": "markdown",
      "metadata": {},
      "source": [
        "## Importando bibliotecas e scripts"
      ]
    },
    {
      "cell_type": "code",
      "execution_count": 22,
      "metadata": {
        "colab": {
          "base_uri": "https://localhost:8080/"
        },
        "id": "C1jrNzlsLMuo",
        "outputId": "27da07ac-8052-4190-8b99-f9664b79c26e"
      },
      "outputs": [],
      "source": [
        "import numpy as np\n",
        "import matplotlib.pyplot as plt\n",
        "import pandas as pd\n",
        "import processamento"
      ]
    },
    {
      "cell_type": "markdown",
      "metadata": {},
      "source": [
        "## Lendo os Dados"
      ]
    },
    {
      "cell_type": "code",
      "execution_count": 23,
      "metadata": {},
      "outputs": [
        {
          "name": "stdout",
          "output_type": "stream",
          "text": [
            "   Unnamed: 0            id        account_id         device_id  \\\n",
            "0           0  7.997403e+11  YgXAhVgdDLsozwto  fGb574abkmDJTQ6M   \n",
            "1           1  7.997403e+11  bO+gPxgfZG9sXtCb  Xll03k9l/OL2r6LM   \n",
            "2           2  7.997403e+11  9mEBGcdz+RLzRNB4  qoKjqPhxqyALMsQ5   \n",
            "3           3  7.997403e+11  tghz/Mlz069esl03  5fqsAP5QUp1M3PLC   \n",
            "4           4  7.997403e+11  9mEBGcdz+RLzRNB4  qoKjqPhxqyALMsQ5   \n",
            "\n",
            "    installation_id     timestamp  is_from_official_store  is_emulator  \\\n",
            "0  Uv9PEQZEwsW8nLOj  1.621290e+12                     1.0          0.0   \n",
            "1  pR7skP90RuM3oqhK  1.620309e+12                     1.0          0.0   \n",
            "2  hzKrODiR6F0jG4rH  1.625228e+12                     1.0          0.0   \n",
            "3  krWwUuXbmBEP9g38  1.624645e+12                     1.0          0.0   \n",
            "4  hzKrODiR6F0jG4rH  1.619907e+12                     1.0          0.0   \n",
            "\n",
            "   has_fake_location_app  has_fake_location_enabled  probable_root  \\\n",
            "0                    0.0                        0.0            0.0   \n",
            "1                    0.0                        0.0            0.0   \n",
            "2                    0.0                        0.0            0.0   \n",
            "3                    0.0                        0.0            0.0   \n",
            "4                    0.0                        0.0            0.0   \n",
            "\n",
            "   device_age_ms  max_installations_on_related_devices  \\\n",
            "0   1.407468e+09                                   1.0   \n",
            "1   1.622747e+10                                   2.0   \n",
            "2   2.865500e+10                                   2.0   \n",
            "3   2.484419e+10                                   3.0   \n",
            "4   2.334158e+10                                   2.0   \n",
            "\n",
            "   never_permitted_location_on_account  boot_count  wallpaper_count  \\\n",
            "0                                  0.0       129.0             28.0   \n",
            "1                                  0.0       131.0            224.0   \n",
            "2                                  0.0       179.0              6.0   \n",
            "3                                  0.0        38.0             11.0   \n",
            "4                                  0.0         NaN              NaN   \n",
            "\n",
            "   n_accounts  ato  \n",
            "0         1.0  0.0  \n",
            "1         1.0  0.0  \n",
            "2         1.0  0.0  \n",
            "3         1.0  0.0  \n",
            "4         1.0  0.0  \n"
          ]
        }
      ],
      "source": [
        "logins = processamento.reading_loginsset('csv')\n",
        "logins_copy = logins.copy()"
      ]
    },
    {
      "cell_type": "markdown",
      "metadata": {},
      "source": [
        "## Tratando os Dados (Preprocessamento)"
      ]
    },
    {
      "cell_type": "code",
      "execution_count": 30,
      "metadata": {},
      "outputs": [],
      "source": [
        "# Excluindo linhas onde há nulos\n",
        "logins_copy = processamento.dropping_nas(logins_copy)\n",
        "\n",
        "# Transformando booleanos pela legibilidade\n",
        "logins_copy = processamento.transform_bool(logins_copy)\n",
        "\n",
        "# Gerando as novas colunas para a analise\n",
        "logins_copy = processamento.create_new_columns(logins_copy)"
      ]
    },
    {
      "cell_type": "markdown",
      "metadata": {},
      "source": [
        "## Gerando Gráficos"
      ]
    },
    {
      "cell_type": "markdown",
      "metadata": {},
      "source": [
        "1. Média, Mediana e Desvio Padrão das Idades de Celular"
      ]
    },
    {
      "cell_type": "code",
      "execution_count": 4,
      "metadata": {},
      "outputs": [
        {
          "data": {
            "image/png": "[encoded data removed]",
            "text/plain": [
              "<Figure size 432x288 with 1 Axes>"
            ]
          },
          "metadata": {
            "needs_background": "light"
          },
          "output_type": "display_data"
        }
      ],
      "source": [
        "def device_age_data_graphic(logins):\n",
        "    device_age_data = np.array([logins['device_age_ms'].mean(),\n",
        "                                logins['device_age_ms'].median(),\n",
        "                                logins['device_age_ms'].std()])\n",
        "\n",
        "    plt.figure()\n",
        "    plt.bar(['mean', 'median', 'std'], device_age_data)\n",
        "device_age_data_graphic(logins_copy)"
      ]
    },
    {
      "cell_type": "markdown",
      "metadata": {},
      "source": [
        "2. Porcentagem de celulares rooteados "
      ]
    },
    {
      "cell_type": "code",
      "execution_count": 5,
      "metadata": {},
      "outputs": [
        {
          "data": {
            "image/png": "[encoded data removed]",
            "text/plain": [
              "<Figure size 432x288 with 1 Axes>"
            ]
          },
          "metadata": {
            "needs_background": "light"
          },
          "output_type": "display_data"
        }
      ],
      "source": [
        "def percentage_root_graphic(logins):\n",
        "  total = logins.shape[0]\n",
        "  rooted = logins[logins['probable_root'] == 1].shape[0]\n",
        "  not_rooted = total - rooted\n",
        "  percentage_root = (rooted / total) *100\n",
        "  percentage_not_root = (not_rooted / total)*100\n",
        "\n",
        "  x = ['Rooted' , 'Not Rooted']\n",
        "  y = [percentage_root , percentage_not_root]\n",
        "  width = 0.35\n",
        "\n",
        "  ax = plt.subplot()\n",
        "  pps = ax.bar(x , y ,  width , align = 'center')\n",
        "  for p in pps: \n",
        "      height = p.get_height()\n",
        "      ax.text(x=p.get_x() + p.get_width() / 2, y=height,\n",
        "        s=\"{:.3}%\".format(height),\n",
        "        ha='center')\n",
        "  height = np.array([rooted , not_rooted])\n",
        "  plt.show()\n",
        "percentage_root_graphic(logins_copy)\n"
      ]
    },
    {
      "cell_type": "markdown",
      "metadata": {},
      "source": [
        "3. Logins por dia da semana"
      ]
    },
    {
      "cell_type": "code",
      "execution_count": 6,
      "metadata": {},
      "outputs": [
        {
          "data": {
            "image/png": "[encoded data removed]",
            "text/plain": [
              "<Figure size 432x288 with 1 Axes>"
            ]
          },
          "metadata": {},
          "output_type": "display_data"
        }
      ],
      "source": [
        "def logins_weekday_graphic(logins):\n",
        "    date = (logins['timestamp']/86400000).values.astype(dtype='datetime64[D]')\n",
        "    dayNumber = pd.Series(date , copy=False).dt.dayofweek\n",
        "    x_label = ['Monday' , 'Tuesday' , 'Wednesday' , 'Thursday' , 'Friday' , 'Saturday' , 'Sunday']\n",
        "    y_label = []\n",
        "    for i in range(0 , 7):\n",
        "        y_label.append(dayNumber[dayNumber == i].count() )\n",
        "    pie_chart = plt.subplot()\n",
        "    pie_chart.pie(y_label , labels = x_label , explode = (0, 0.1, 0, 0 , 0 , 0 , 0), autopct='%1.1f%%',\n",
        "            shadow=True, startangle=90)\n",
        "    plt.show()\n",
        "logins_weekday_graphic(logins_copy)"
      ]
    },
    {
      "cell_type": "markdown",
      "metadata": {},
      "source": [
        "4. Porcentagem de dispositivos com localização falsa habilitada"
      ]
    },
    {
      "cell_type": "code",
      "execution_count": 7,
      "metadata": {},
      "outputs": [
        {
          "data": {
            "image/png": "[encoded data removed]",
            "text/plain": [
              "<Figure size 432x288 with 1 Axes>"
            ]
          },
          "metadata": {
            "needs_background": "light"
          },
          "output_type": "display_data"
        }
      ],
      "source": [
        "def percentage_fake_location__enable_graphic(logins):\n",
        "  total = logins.shape[0]\n",
        "  fake = logins[logins['has_fake_location_enabled'] == 1].shape[0]\n",
        "  not_fake = total - fake\n",
        "  percentage_fake = (fake / total) *100\n",
        "  percentage_not_fake = (not_fake / total)*100\n",
        "\n",
        "  x = ['Fake Location On' , 'Fake Location Off']\n",
        "  y = [percentage_fake , percentage_not_fake]\n",
        "  width = 0.35\n",
        "\n",
        "  ax = plt.subplot()\n",
        "  pps = ax.bar(x , y ,  width , align = 'center')\n",
        "  for p in pps: \n",
        "      height = p.get_height()\n",
        "      ax.text(x=p.get_x() + p.get_width() / 2, y=height,\n",
        "        s=\"{:.5}%\".format(height),\n",
        "        ha='center')\n",
        "  height = np.array([fake , not_fake])\n",
        "  plt.show()\n",
        "percentage_fake_location__enable_graphic(logins_copy)\n"
      ]
    },
    {
      "cell_type": "markdown",
      "metadata": {},
      "source": [
        "5. Emulador vs Sem Emulador "
      ]
    },
    {
      "cell_type": "code",
      "execution_count": 8,
      "metadata": {},
      "outputs": [
        {
          "data": {
            "image/png": "[encoded data removed]",
            "text/plain": [
              "<Figure size 432x288 with 1 Axes>"
            ]
          },
          "metadata": {},
          "output_type": "display_data"
        }
      ],
      "source": [
        "def emulator_graphic(logins):\n",
        "    total = logins.shape[0]\n",
        "    emulator = logins[logins['is_emulator'] == 1].shape[0]\n",
        "    not_emulator = total - emulator\n",
        "    labels = ['emulator' , 'not emulator']\n",
        "    values = [emulator , not_emulator]\n",
        "    pie_chart = plt.subplot()\n",
        "    pie_chart.pie(values , labels = labels , explode = (0, 0.3), autopct='%1.1f%%',\n",
        "            shadow=True, startangle=90)\n",
        "    \n",
        "emulator_graphic(logins_copy)\n",
        "    \n"
      ]
    },
    {
      "cell_type": "markdown",
      "metadata": {},
      "source": [
        "6. Contas por aparelho em moda, média, mediana e desvio padrão"
      ]
    },
    {
      "cell_type": "code",
      "execution_count": 9,
      "metadata": {},
      "outputs": [
        {
          "data": {
            "image/png": "[encoded data removed]",
            "text/plain": [
              "<Figure size 432x288 with 1 Axes>"
            ]
          },
          "metadata": {},
          "output_type": "display_data"
        },
        {
          "data": {
            "image/png": "[encoded data removed]",
            "text/plain": [
              "<Figure size 432x288 with 1 Axes>"
            ]
          },
          "metadata": {
            "needs_background": "light"
          },
          "output_type": "display_data"
        }
      ],
      "source": [
        "def device_accounts_graph(logins):\n",
        "    acc_count = logins.groupby('n_accounts')['n_accounts'].count()\n",
        "    arr = np.array(acc_count)\n",
        "    x_label = np.array(range(len(arr))) + 1\n",
        "    plt.figure()\n",
        "    plt.pie(acc_count, labels=x_label, autopct='%1.1f%%')\n",
        "    acc_count_important = np.array([logins['n_accounts'].mean(),\n",
        "                                logins['n_accounts'].median(),\n",
        "                                logins['n_accounts'].std()])\n",
        "    plt.figure()\n",
        "    plt.bar(['mean', 'median', 'std'], acc_count_important)\n",
        "\n",
        "device_accounts_graph(logins_copy)\n"
      ]
    },
    {
      "cell_type": "markdown",
      "metadata": {},
      "source": [
        "7. Valor Médio, Mediana e Moda de Reinicializações"
      ]
    },
    {
      "cell_type": "code",
      "execution_count": 10,
      "metadata": {},
      "outputs": [
        {
          "data": {
            "image/png": "[encoded data removed]",
            "text/plain": [
              "<Figure size 432x288 with 1 Axes>"
            ]
          },
          "metadata": {
            "needs_background": "light"
          },
          "output_type": "display_data"
        }
      ],
      "source": [
        "def plot_total_boot(logins):\n",
        "    boot_count = np.array([logins['boot_count'].mean(),\n",
        "                            logins['boot_count'].median(),\n",
        "                            logins['boot_count'].std()])\n",
        "\n",
        "    plt.figure()\n",
        "    plt.bar(['mean', 'median', 'std'], boot_count)\n",
        "\n",
        "plot_total_boot(logins_copy)"
      ]
    },
    {
      "cell_type": "markdown",
      "metadata": {},
      "source": [
        "8. Valor Médio, Mediana e Desvio Padrão de Reinicializações Diárias"
      ]
    },
    {
      "cell_type": "code",
      "execution_count": 24,
      "metadata": {},
      "outputs": [
        {
          "name": "stdout",
          "output_type": "stream",
          "text": [
            "[7.51296345e+05 4.32904934e-01 4.12987788e+08]\n"
          ]
        },
        {
          "data": {
            "image/png": "[encoded data removed]",
            "text/plain": [
              "<Figure size 432x288 with 1 Axes>"
            ]
          },
          "metadata": {
            "needs_background": "light"
          },
          "output_type": "display_data"
        }
      ],
      "source": [
        "def plot_daily_boot(logins):\n",
        "    is_inf = logins['boot_frequency_per_day'] == np.inf\n",
        "    logins['boot_frequency_per_day'] = logins[~is_inf]['boot_frequency_per_day']\n",
        "    boot_frequency_per_day = np.array([logins['boot_frequency_per_day'].mean(),\n",
        "                            logins['boot_frequency_per_day'].median(),\n",
        "                            logins['boot_frequency_per_day'].std()])\n",
        "    print(boot_frequency_per_day)\n",
        "    plt.figure()\n",
        "    plt.bar(['mean', 'median', 'std'], boot_frequency_per_day)\n",
        "\n",
        "plot_daily_boot(logins_copy)\n"
      ]
    },
    {
      "cell_type": "markdown",
      "metadata": {},
      "source": [
        "9. Média, Mediana e Desvio Padrão de apps máximos instalados por dispositivo"
      ]
    },
    {
      "cell_type": "code",
      "execution_count": 12,
      "metadata": {},
      "outputs": [
        {
          "data": {
            "image/png": "[encoded data removed]",
            "text/plain": [
              "<Figure size 432x288 with 1 Axes>"
            ]
          },
          "metadata": {
            "needs_background": "light"
          },
          "output_type": "display_data"
        }
      ],
      "source": [
        "def installed_ammount_chart(logins):\n",
        "    max_installations = np.array([logins['max_installations_on_related_devices'].mean(),\n",
        "                                    logins['max_installations_on_related_devices'].median(),\n",
        "                                    logins['max_installations_on_related_devices'].std()])\n",
        "\n",
        "    plt.figure()\n",
        "    plt.bar(['mean', 'median', 'std'], max_installations)\n",
        "\n",
        "installed_ammount_chart(logins_copy)\n"
      ]
    },
    {
      "cell_type": "markdown",
      "metadata": {},
      "source": [
        "10. Porcentagem de aplicativos instalados fora de loja oficial (pie chart)"
      ]
    },
    {
      "cell_type": "code",
      "execution_count": 13,
      "metadata": {},
      "outputs": [
        {
          "data": {
            "image/png": "[encoded data removed]",
            "text/plain": [
              "<Figure size 432x288 with 1 Axes>"
            ]
          },
          "metadata": {},
          "output_type": "display_data"
        }
      ],
      "source": [
        "def outside_official_store(logins):\n",
        "    store_data = logins.groupby('is_from_official_store')['is_from_official_store'].count()\n",
        "    x_label=[\"Not from official store\", \"From official store\"]\n",
        "    plt.figure()\n",
        "    plt.pie(store_data, labels=x_label, autopct='%1.1f%%')\n",
        "\n",
        "outside_official_store(logins_copy)"
      ]
    },
    {
      "cell_type": "markdown",
      "metadata": {},
      "source": [
        "## Insights"
      ]
    },
    {
      "cell_type": "markdown",
      "metadata": {},
      "source": [
        "1. Instalação em Loja não Official e Localização Suspeita VS eventos de Account Takeover"
      ]
    },
    {
      "cell_type": "code",
      "execution_count": 44,
      "metadata": {},
      "outputs": [
        {
          "data": {
            "image/png": "[encoded data removed]",
            "text/plain": [
              "<Figure size 432x288 with 1 Axes>"
            ]
          },
          "metadata": {
            "needs_background": "light"
          },
          "output_type": "display_data"
        }
      ],
      "source": [
        "def unofficial_store_vs_ato(logins):\n",
        "    correlations = np.array([logins['external_download'].corr(logins['ato']),\n",
        "                            logins['suspicious_location'].corr(logins['ato'])])\n",
        "    plt.figure()\n",
        "    plt.bar(['Unofficial Store', 'Susppicious Location'], correlations)\n",
        "\n",
        "unofficial_store_vs_ato(logins_copy)"
      ]
    },
    {
      "cell_type": "markdown",
      "metadata": {},
      "source": [
        "2. Emulador e Localização Suspeita VS eventos de Account Takeover"
      ]
    },
    {
      "cell_type": "code",
      "execution_count": 33,
      "metadata": {},
      "outputs": [
        {
          "data": {
            "image/png": "[encoded data removed]",
            "text/plain": [
              "<Figure size 432x288 with 1 Axes>"
            ]
          },
          "metadata": {
            "needs_background": "light"
          },
          "output_type": "display_data"
        }
      ],
      "source": [
        "def emulator_vs_ato(logins):\n",
        "    correlations = np.array([logins['is_emulator'].corr(logins['ato']),\n",
        "                            logins['suspicious_location'].corr(logins['ato'])])\n",
        "    plt.figure()\n",
        "    plt.bar(['Emulador', 'Susppicious Location'], correlations)\n",
        "\n",
        "emulator_vs_ato(logins_copy)"
      ]
    },
    {
      "cell_type": "markdown",
      "metadata": {},
      "source": [
        "3. Root VS Sem root - Quais estão mais relacionados a account takeover?"
      ]
    },
    {
      "cell_type": "code",
      "execution_count": 34,
      "metadata": {},
      "outputs": [
        {
          "name": "stdout",
          "output_type": "stream",
          "text": [
            "\t\t -2.017415517433209e-05\n"
          ]
        },
        {
          "data": {
            "image/png": "[encoded data removed]",
            "text/plain": [
              "<Figure size 432x288 with 1 Axes>"
            ]
          },
          "metadata": {
            "needs_background": "light"
          },
          "output_type": "display_data"
        },
        {
          "data": {
            "image/png": "[encoded data removed]",
            "text/plain": [
              "<Figure size 432x288 with 1 Axes>"
            ]
          },
          "metadata": {
            "needs_background": "light"
          },
          "output_type": "display_data"
        }
      ],
      "source": [
        "def root_ato(logins):\n",
        "    not_ato_not_root = logins[(logins['ato'] == 0) & (logins['probable_root'] == 0)]\n",
        "    not_ato_root = logins[(logins['ato'] == 0) & (logins['probable_root'] == 1)]\n",
        "\n",
        "    ato_not_root = logins[(logins['ato'] == 1) & (logins['probable_root'] == 0)]\n",
        "    ato_root = logins[(logins['ato'] == 0) & (logins['probable_root'] == 1)]\n",
        "    \n",
        "    correlations1 = np.array([\n",
        "        len(not_ato_not_root), len(not_ato_root), len(ato_not_root), len(ato_root)])\n",
        "    \n",
        "    correlations2 = np.array([len(not_ato_root), len(ato_not_root), len(ato_root)])\n",
        "\n",
        "    plt.figure()\n",
        "    plt.bar(['NANR', 'NAR', 'ANR', 'AR'], correlations1)\n",
        "\n",
        "    plt.figure()\n",
        "    plt.bar(['NAR', 'ANR', 'AR'], correlations2)\n",
        "\n",
        "    corr_dataframe = logins['probable_root'].corr(logins['ato'])\n",
        "    print('\\t\\t',corr_dataframe)\n",
        "\n",
        "root_ato(logins_copy)"
      ]
    },
    {
      "cell_type": "markdown",
      "metadata": {},
      "source": [
        "4. Quantidade de Wallpaper tem relação com account takeover?"
      ]
    },
    {
      "cell_type": "code",
      "execution_count": 14,
      "metadata": {},
      "outputs": [
        {
          "data": {
            "image/png": "[encoded data removed]",
            "text/plain": [
              "<Figure size 432x288 with 1 Axes>"
            ]
          },
          "metadata": {
            "needs_background": "light"
          },
          "output_type": "display_data"
        },
        {
          "name": "stdout",
          "output_type": "stream",
          "text": [
            "\t\t -0.0023021244646640898\n"
          ]
        }
      ],
      "source": [
        "def wallpapers_and_ato(logins):\n",
        "    not_ato_data = logins[logins['ato'] == 0]['wallpaper_count']\n",
        "    ato_data = logins[logins['ato'] == 1]['wallpaper_count']\n",
        "    \n",
        "    not_atos = [not_ato_data.mean(), not_ato_data.median()]\n",
        "    atos = [ato_data.mean(), ato_data.median()]\n",
        "\n",
        "    fig = plt.figure()\n",
        "    ax = fig.add_subplot()\n",
        "    x_axis = np.arange(2)\n",
        "    na_bars = ax.bar(x_axis-0.2, not_atos, 0.4, color='b')\n",
        "    a_bars = ax.bar(x_axis+0.2, atos, 0.4, color='r')\n",
        "\n",
        "    ax.set_ylabel('Data Type')\n",
        "    ax.legend((a_bars, na_bars), ('ATO', 'NOT ATO'))\n",
        "\n",
        "    corr_dataframe = logins['wallpaper_count'].corr(logins['ato'])\n",
        "    plt.xticks(x_axis, ['Mean', 'Median'])\n",
        "    plt.show()\n",
        "    print('\\t\\t',corr_dataframe)\n",
        "\n",
        "wallpapers_and_ato(logins_copy)"
      ]
    },
    {
      "cell_type": "markdown",
      "metadata": {},
      "source": [
        "5. Quantos aparelhos tem instalações feitas fora de loja oficial? Qual a média?"
      ]
    },
    {
      "cell_type": "code",
      "execution_count": 15,
      "metadata": {},
      "outputs": [
        {
          "data": {
            "image/png": "[encoded data removed]",
            "text/plain": [
              "<Figure size 432x288 with 1 Axes>"
            ]
          },
          "metadata": {
            "needs_background": "light"
          },
          "output_type": "display_data"
        },
        {
          "name": "stdout",
          "output_type": "stream",
          "text": [
            "\t\t -0.0009861777287380334\n"
          ]
        }
      ],
      "source": [
        "def unofficial_installing(logins):\n",
        "    unofficial = logins[logins['is_from_official_store'] == 0]\n",
        "    groupped_unofficial = unofficial.groupby('device_id')['device_id'].count()\n",
        "    official = logins[logins['is_from_official_store'] == 1]\n",
        "    groupped_official = official.groupby('device_id')['device_id'].count()\n",
        "    \n",
        "    unofficial_points = [groupped_unofficial.mean(), groupped_unofficial.median()]\n",
        "    official_points = [groupped_official.mean(), groupped_official.median()]\n",
        "\n",
        "    fig = plt.figure()\n",
        "    ax = fig.add_subplot()\n",
        "    x_axis = np.arange(2)\n",
        "    un_bars = ax.bar(x_axis-0.2, unofficial_points, 0.4, color='b')\n",
        "    o_bars = ax.bar(x_axis+0.2, official_points, 0.4, color='r')\n",
        "\n",
        "    ax.set_ylabel('Data Type')\n",
        "    ax.legend((o_bars, un_bars), ('Official', 'Unofficial'))\n",
        "\n",
        "    corr_dataframe = logins['is_from_official_store'].corr(logins['ato'])\n",
        "    plt.xticks(x_axis, ['Mean', 'Median'])\n",
        "    plt.show()\n",
        "    print('\\t\\t',corr_dataframe)\n",
        "\n",
        "unofficial_installing(logins_copy)"
      ]
    },
    {
      "cell_type": "markdown",
      "metadata": {},
      "source": [
        "6. Download Externo, Emulador e Localização Suspeita VS Evento de Account Takeover"
      ]
    },
    {
      "cell_type": "code",
      "execution_count": 16,
      "metadata": {},
      "outputs": [
        {
          "data": {
            "image/png": "[encoded data removed]",
            "text/plain": [
              "<Figure size 432x288 with 1 Axes>"
            ]
          },
          "metadata": {
            "needs_background": "light"
          },
          "output_type": "display_data"
        }
      ],
      "source": [
        "def external_vs_ato(logins):\n",
        "    correlacoes = np.array([logins['is_emulator'].corr(logins['ato']),\n",
        "                            logins['external_download'].corr(logins['ato']),\n",
        "                            logins['suspicious_location'].corr(logins['ato'])])\n",
        "    plt.figure()\n",
        "    plt.bar(['emulador', 'download externo', 'sus'], correlacoes)\n",
        "\n",
        "external_vs_ato(logins_copy)"
      ]
    },
    {
      "cell_type": "markdown",
      "metadata": {},
      "source": [
        "8. Há relação entre a quantidade média de boots por dia e eventos de account takeover?"
      ]
    },
    {
      "cell_type": "code",
      "execution_count": 48,
      "metadata": {},
      "outputs": [
        {
          "data": {
            "image/png": "[encoded data removed]",
            "text/plain": [
              "<Figure size 432x288 with 1 Axes>"
            ]
          },
          "metadata": {
            "needs_background": "light"
          },
          "output_type": "display_data"
        },
        {
          "name": "stdout",
          "output_type": "stream",
          "text": [
            "\t\t  Correlação:  0.0029312682429254062\n"
          ]
        }
      ],
      "source": [
        "def boot_frequency_ato(logins):\n",
        "    is_inf = logins['boot_frequency_per_day'] == np.inf\n",
        "    logins = logins[~is_inf] ## eliminar frequencias infinitas \n",
        "    \n",
        "    ato_data = logins[logins['ato'] == 1]['boot_frequency_per_day']\n",
        "    not_ato_data = logins[logins['ato'] == 0]['boot_frequency_per_day']\n",
        "    not_atos = [not_ato_data.mean(), not_ato_data.median()]\n",
        "    atos = [ato_data.mean(), ato_data.median()]\n",
        "\n",
        "    fig = plt.figure()\n",
        "    ax = fig.add_subplot()\n",
        "    x_axis = np.arange(2)\n",
        "    na_bars = ax.bar(x_axis-0.2, not_atos, 0.4, color='b')\n",
        "    a_bars = ax.bar(x_axis+0.2, atos, 0.4, color='r')\n",
        "\n",
        "    ax.set_ylabel('Data Type')\n",
        "    ax.legend((a_bars, na_bars), ('ATO', 'NOT ATO'))\n",
        "\n",
        "    corr_dataframe = logins['boot_frequency_per_day'].corr(logins['ato'])\n",
        "    plt.xticks(x_axis, ['Mean', 'Median'])\n",
        "    plt.show()\n",
        "    print('\\t\\t', \" Correlação: \" , corr_dataframe)\n",
        "boot_frequency_ato(logins_copy)"
      ]
    },
    {
      "cell_type": "markdown",
      "metadata": {},
      "source": [
        "9. Existe algum dia da semana onde ocorrem mais account takeovers?"
      ]
    },
    {
      "cell_type": "code",
      "execution_count": 42,
      "metadata": {},
      "outputs": [
        {
          "name": "stdout",
          "output_type": "stream",
          "text": [
            "[479 470 458 412 375 238 198]\n",
            "['Wednesday' 'Tuesday' 'Monday' 'Friday' 'Thursday' 'Saturday' 'Sunday']\n"
          ]
        },
        {
          "data": {
            "image/png": "[encoded data removed]",
            "text/plain": [
              "<Figure size 432x288 with 1 Axes>"
            ]
          },
          "metadata": {
            "needs_background": "light"
          },
          "output_type": "display_data"
        }
      ],
      "source": [
        "def weekday_more_ato(logins):\n",
        "    has_Ato = logins['ato'] == 1\n",
        "    df = logins[has_Ato]['weekday'].value_counts()\n",
        "    x = df.index\n",
        "    y = df.values\n",
        "    print(np.array(df.values))\n",
        "    print(np.array(df.index))\n",
        "    plt.figure()\n",
        "    plt.bar(x , y)\n",
        "weekday_more_ato(logins_copy)"
      ]
    },
    {
      "cell_type": "markdown",
      "metadata": {},
      "source": [
        "10. Heatmap de Correlações"
      ]
    },
    {
      "cell_type": "code",
      "execution_count": 17,
      "metadata": {},
      "outputs": [
        {
          "data": {
            "image/png": "[encoded data removed]",
            "text/plain": [
              "<Figure size 432x288 with 1 Axes>"
            ]
          },
          "metadata": {
            "needs_background": "light"
          },
          "output_type": "display_data"
        }
      ],
      "source": [
        "def corr_heatmap(logins):\n",
        "    lc = logins.copy()\n",
        "    date = (logins['timestamp']/86400000).values.astype(dtype='datetime64[D]')\n",
        "    day_number = pd.Series(date , copy=False).dt.dayofweek\n",
        "    lc['daynumber'] = day_number\n",
        "\n",
        "    param_list = ['ato', 'daynumber', 'suspicious_location', 'boot_count',\n",
        "                'wallpaper_per_accounts', 'probable_root']\n",
        "    corr_list = []\n",
        "    for param1 in param_list:\n",
        "        cur_list = []\n",
        "        for param2 in param_list:\n",
        "            cur_list.append(lc[param1].corr(lc[param2]))\n",
        "        corr_list.append(cur_list)\n",
        "    \n",
        "    corr_list = np.array(corr_list)\n",
        "\n",
        "    fig, ax = plt.subplots()\n",
        "    im = ax.imshow(corr_list)\n",
        "\n",
        "    ax.set_xticks(np.arange(len(param_list)))\n",
        "    ax.set_yticks(np.arange(len(param_list)))\n",
        "\n",
        "    plt.setp(ax.get_xticklabels(), rotation=45, ha=\"right\", rotation_mode=\"anchor\")\n",
        "    ax.set_title(\"Correlation of all params\")\n",
        "    fig.tight_layout()\n",
        "    plt.show()\n",
        "\n",
        "corr_heatmap(logins_copy)"
      ]
    }
  ],
  "metadata": {
    "colab": {
      "collapsed_sections": [
        "UuFAznYgO2dG",
        "H8netPUw6294",
        "lfx82RFaEeJ5",
        "lGHJc7TT5bjp",
        "lfWM70839Fe5",
        "xP3Rzo4l_6qE",
        "DXrwjeBW_6qG",
        "nGjwJU2s5KcF",
        "NQ3fhYOhxvHL",
        "KfNXhRArNn5_",
        "EQtC8QUfNrml",
        "3p7umbWgNu4d",
        "poVSzwRVNyYV",
        "upT5TzedzonI",
        "YlWgns38AT8N",
        "UHG5eMWCenfr",
        "jO7ewdX-uFcf",
        "rGtrL6nBATat",
        "sA_UFGh-ASEd",
        "TEekgWw718xv",
        "KSb6wyRTwPCE",
        "0h5e_4qn5jlj",
        "RI8oof8Y1K7c",
        "UsBk6Gp6sViJ",
        "Q-YA1uHRsbPS",
        "3ZbQ13gxsc6R",
        "3_nmUVAk9Kyi",
        "dtyXq013sgxx",
        "MQabAIPzsqHi",
        "ttgC2A6iSl8R",
        "TNiPAIegSl8S",
        "ngwcP77qSl8S",
        "sgKBzuWQSl8T",
        "sXee-SipJuiZ",
        "QlYrAypAyvNz"
      ],
      "name": "Copy of Projeto_aprendizagem_de_maquina.ipynb",
      "provenance": []
    },
    "kernelspec": {
      "display_name": "Python 3",
      "name": "python3"
    },
    "language_info": {
      "codemirror_mode": {
        "name": "ipython",
        "version": 3
      },
      "file_extension": ".py",
      "mimetype": "text/x-python",
      "name": "python",
      "nbconvert_exporter": "python",
      "pygments_lexer": "ipython3",
      "version": "3.9.7"
    }
  },
  "nbformat": 4,
  "nbformat_minor": 0
}
