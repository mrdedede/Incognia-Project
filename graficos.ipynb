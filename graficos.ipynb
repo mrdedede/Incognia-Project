{
  "cells": [
    {
      "cell_type": "markdown",
      "metadata": {
        "id": "JyJtCpPhSIfr"
      },
      "source": [
        "# Projeto de Engenharia de Dados\n",
        "\n",
        "## Gráficos Relevantes:\n",
        "1. Valor médio, valor máximo e desvio padrão da idade (bar chart)\n",
        "2. Porcentagem de celulares rooteados (bar chart)\n",
        "3. Logins por dia da semana (pie chart)\n",
        "4. Logins por timestamp (plot)\n",
        "5. Média de logins por dia (plot)\n",
        "6. Aparelhos por conta em moda, média, mediana e desvio padrão (bar chart)\n",
        "7. Valor médio de reinicializações (bar chart)\n",
        "\n",
        "## Insights para o Projeto:\n",
        "1. Será que dispositivos com mais contas por wallpapers tem associação com account takeover?\n",
        "2. O tempo que um dispositivo passa sem reiniciar tem alguma correlação com o evento de account takeover?"
      ]
    },
    {
      "cell_type": "markdown",
      "metadata": {},
      "source": [
        "## Importando bibliotecas e scripts"
      ]
    },
    {
      "cell_type": "code",
      "execution_count": 1,
      "metadata": {
        "colab": {
          "base_uri": "https://localhost:8080/"
        },
        "id": "C1jrNzlsLMuo",
        "outputId": "27da07ac-8052-4190-8b99-f9664b79c26e"
      },
      "outputs": [],
      "source": [
        "import numpy as np\n",
        "import matplotlib.pyplot as plt\n",
        "import pandas as pd\n",
        "import processamento"
      ]
    },
    {
      "cell_type": "markdown",
      "metadata": {},
      "source": [
        "## Lendo os Dados"
      ]
    },
    {
      "cell_type": "code",
      "execution_count": 2,
      "metadata": {},
      "outputs": [
        {
          "name": "stdout",
          "output_type": "stream",
          "text": [
            "   Unnamed: 0            id        account_id         device_id  \\\n",
            "0           0  7.997403e+11  YgXAhVgdDLsozwto  fGb574abkmDJTQ6M   \n",
            "1           1  7.997403e+11  bO+gPxgfZG9sXtCb  Xll03k9l/OL2r6LM   \n",
            "2           2  7.997403e+11  9mEBGcdz+RLzRNB4  qoKjqPhxqyALMsQ5   \n",
            "3           3  7.997403e+11  tghz/Mlz069esl03  5fqsAP5QUp1M3PLC   \n",
            "4           4  7.997403e+11  9mEBGcdz+RLzRNB4  qoKjqPhxqyALMsQ5   \n",
            "\n",
            "    installation_id     timestamp  is_from_official_store  is_emulator  \\\n",
            "0  Uv9PEQZEwsW8nLOj  1.621290e+12                     1.0          0.0   \n",
            "1  pR7skP90RuM3oqhK  1.620309e+12                     1.0          0.0   \n",
            "2  hzKrODiR6F0jG4rH  1.625228e+12                     1.0          0.0   \n",
            "3  krWwUuXbmBEP9g38  1.624645e+12                     1.0          0.0   \n",
            "4  hzKrODiR6F0jG4rH  1.619907e+12                     1.0          0.0   \n",
            "\n",
            "   has_fake_location_app  has_fake_location_enabled  probable_root  \\\n",
            "0                    0.0                        0.0            0.0   \n",
            "1                    0.0                        0.0            0.0   \n",
            "2                    0.0                        0.0            0.0   \n",
            "3                    0.0                        0.0            0.0   \n",
            "4                    0.0                        0.0            0.0   \n",
            "\n",
            "   device_age_ms  max_installations_on_related_devices  \\\n",
            "0   1.407468e+09                                   1.0   \n",
            "1   1.622747e+10                                   2.0   \n",
            "2   2.865500e+10                                   2.0   \n",
            "3   2.484419e+10                                   3.0   \n",
            "4   2.334158e+10                                   2.0   \n",
            "\n",
            "   never_permitted_location_on_account  boot_count  wallpaper_count  \\\n",
            "0                                  0.0       129.0             28.0   \n",
            "1                                  0.0       131.0            224.0   \n",
            "2                                  0.0       179.0              6.0   \n",
            "3                                  0.0        38.0             11.0   \n",
            "4                                  0.0         NaN              NaN   \n",
            "\n",
            "   n_accounts  ato  \n",
            "0         1.0  0.0  \n",
            "1         1.0  0.0  \n",
            "2         1.0  0.0  \n",
            "3         1.0  0.0  \n",
            "4         1.0  0.0  \n"
          ]
        }
      ],
      "source": [
        "logins = processamento.reading_loginsset('csv')"
      ]
    },
    {
      "cell_type": "markdown",
      "metadata": {},
      "source": [
        "## Tratando os Dados (Preprocessamento)"
      ]
    },
    {
      "cell_type": "code",
      "execution_count": 3,
      "metadata": {},
      "outputs": [],
      "source": [
        "# Excluindo linhas onde há nulos\n",
        "logins = processamento.dropping_nas(logins)\n",
        "\n",
        "# Transformando booleanos pela legibilidade\n",
        "logins = processamento.transform_bool(logins)\n",
        "\n",
        "# Gerando as novas colunas para a analise\n",
        "logins = processamento.create_new_columns(logins)"
      ]
    },
    {
      "cell_type": "markdown",
      "metadata": {},
      "source": [
        "## Gerando Gráficos"
      ]
    },
    {
      "cell_type": "markdown",
      "metadata": {},
      "source": [
        "1. Média, Mediana e Desvio Padrão das Idades de Celular"
      ]
    },
    {
      "cell_type": "code",
      "execution_count": 4,
      "metadata": {},
      "outputs": [
        {
          "data": {
            "text/plain": [
              "<BarContainer object of 3 artists>"
            ]
          },
          "execution_count": 4,
          "metadata": {},
          "output_type": "execute_result"
        },
        {
          "data": {
            "image/png": "[encoded data removed]",
            "text/plain": [
              "<Figure size 432x288 with 1 Axes>"
            ]
          },
          "metadata": {
            "needs_background": "light"
          },
          "output_type": "display_data"
        }
      ],
      "source": [
        "device_age_data = np.array([logins['device_age_ms'].mean(),\n",
        "                            logins['device_age_ms'].median(),\n",
        "                            logins['device_age_ms'].std()])\n",
        "\n",
        "plt.figure()\n",
        "plt.bar(['mean', 'median', 'std'], device_age_data)"
      ]
    },
    {
      "cell_type": "markdown",
      "metadata": {},
      "source": [
        "2. Dia mais acessado"
      ]
    },
    {
      "cell_type": "code",
      "execution_count": 14,
      "metadata": {},
      "outputs": [
        {
          "data": {
            "image/png": "[encoded data removed]",
            "text/plain": [
              "<Figure size 432x288 with 1 Axes>"
            ]
          },
          "metadata": {},
          "output_type": "display_data"
        }
      ],
      "source": [
        "date = (logins['timestamp']/86400000).values.astype(dtype='datetime64[D]')\n",
        "dayNumber = pd.Series(date , copy=False).dt.dayofweek\n",
        "x_label = ['Monday' , 'Tuesday' , 'Wednesday' , 'Thursday' , 'Friday' , 'Saturday' , 'Sunday']\n",
        "y_label = []\n",
        "for i in range(0 , 7):\n",
        "    y_label.append(dayNumber[dayNumber == i].count() )\n",
        "pie_chart = plt.subplot()\n",
        "pie_chart.pie(y_label , labels = x_label , explode = (0, 0.1, 0, 0 , 0 , 0 , 0), autopct='%1.1f%%',\n",
        "        shadow=True, startangle=90)\n",
        "plt.show()"
      ]
    }
  ],
  "metadata": {
    "colab": {
      "collapsed_sections": [
        "UuFAznYgO2dG",
        "H8netPUw6294",
        "lfx82RFaEeJ5",
        "lGHJc7TT5bjp",
        "lfWM70839Fe5",
        "xP3Rzo4l_6qE",
        "DXrwjeBW_6qG",
        "nGjwJU2s5KcF",
        "NQ3fhYOhxvHL",
        "KfNXhRArNn5_",
        "EQtC8QUfNrml",
        "3p7umbWgNu4d",
        "poVSzwRVNyYV",
        "upT5TzedzonI",
        "YlWgns38AT8N",
        "UHG5eMWCenfr",
        "jO7ewdX-uFcf",
        "rGtrL6nBATat",
        "sA_UFGh-ASEd",
        "TEekgWw718xv",
        "KSb6wyRTwPCE",
        "0h5e_4qn5jlj",
        "RI8oof8Y1K7c",
        "UsBk6Gp6sViJ",
        "Q-YA1uHRsbPS",
        "3ZbQ13gxsc6R",
        "3_nmUVAk9Kyi",
        "dtyXq013sgxx",
        "MQabAIPzsqHi",
        "ttgC2A6iSl8R",
        "TNiPAIegSl8S",
        "ngwcP77qSl8S",
        "sgKBzuWQSl8T",
        "sXee-SipJuiZ",
        "QlYrAypAyvNz"
      ],
      "name": "Copy of Projeto_aprendizagem_de_maquina.ipynb",
      "provenance": []
    },
    "kernelspec": {
      "display_name": "Python 3",
      "name": "python3"
    },
    "language_info": {
      "codemirror_mode": {
        "name": "ipython",
        "version": 3
      },
      "file_extension": ".py",
      "mimetype": "text/x-python",
      "name": "python",
      "nbconvert_exporter": "python",
      "pygments_lexer": "ipython3",
      "version": "3.7.3"
    }
  },
  "nbformat": 4,
  "nbformat_minor": 0
}
